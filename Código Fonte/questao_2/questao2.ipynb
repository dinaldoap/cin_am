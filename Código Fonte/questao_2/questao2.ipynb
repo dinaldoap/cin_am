{
 "cells": [
  {
   "cell_type": "markdown",
   "metadata": {},
   "source": [
    "# Projeto AM 2018-1, Questão 2\n",
    "Professor: Francisco de A. T. de Carvalho<br>\n",
    "Equipe:<br>\n",
    "<ul>\n",
    "    <li>Cleison Amorim</li>\n",
    "    <li>Dennys Azevedo</li>\n",
    "    <li>Dinaldo Pessoa</li>\n",
    "</ul>\n",
    "Centro de Informática, CIn/UFPE"
   ]
  },
  {
   "cell_type": "markdown",
   "metadata": {},
   "source": [
    "# Introdução"
   ]
  },
  {
   "cell_type": "markdown",
   "metadata": {},
   "source": [
    "Conforme [enunciado do projeto](http://www.cin.ufpe.br/~fatc/AM/Projeto-AM-2018-1.pdf), essa questão trata de um problema de classificação multiclasse. Sete imagens de ambientes externos foram utilizadas para geração dos exemplos. Cada exemplo correponde a uma região de 3x3 pixels de uma das imagens. Os exemplos foram rotulados segundo as seguintes classes: BRICKFACE, SKY, FOLIAGE, CEMENT, WINDOW, PATH, GRASS. As variáveis dos exemplos são informações de formas e cores extraídas da região de pixeis. Em outras palavras, os classificadores usarão informações de textura ao invés de usar diretamente os valores de RGB dos nove pixels da região."
   ]
  },
  {
   "cell_type": "markdown",
   "metadata": {},
   "source": [
    "O objetivo deste trabalho é comparar diversas combinações de classificadores e visões das variáveis em relação à taxa de acerto."
   ]
  },
  {
   "cell_type": "markdown",
   "metadata": {},
   "source": [
    "Esse documento foi estruturado da seguinte forma: [Introdução](#Introdução), traz uma breve explicação do problema tratado, do objetivo do trabalho e prepara o contexto de execução da análise dos dados e do experimento; [Conhecendo os dados](#Conhecendo-os-dados), faz uma análise exploratória dos dados e realiza a seleção de variáveis; [Execução do experimento](#Execução-do-experimento), define a semente do estado aleatório, monta as combinações de classificadores e visões das variáveis e executa o experimento; [Avaliação dos resultados individuais](#Avaliação-dos-resultados-individuais), avalia as médias e os intervalos de confiança das taxas de acerto das combinações; e [Comparação dos classificadores](#Comparação-dos-classificadores), realiza os testes de Friedman e Nemenyi para identificar as combinações com resultados significativamente diferentes."
   ]
  },
  {
   "cell_type": "markdown",
   "metadata": {},
   "source": [
    "## Contexto de execução\n",
    "### Dependências"
   ]
  },
  {
   "cell_type": "code",
   "execution_count": 18,
   "metadata": {},
   "outputs": [],
   "source": [
    "import logging as log\n",
    "import math as ma\n",
    "import pprint as pp\n",
    "import numpy as np\n",
    "import pandas as pd\n",
    "import transformer as tr\n",
    "import parzen as pa\n",
    "import result as rs\n",
    "from sklearn import naive_bayes as nb\n",
    "from sklearn import pipeline as pi\n",
    "from sklearn import model_selection as ms\n",
    "from sklearn import ensemble as en\n",
    "import scipy.stats as st\n",
    "import Orange as og\n",
    "import matplotlib.pyplot as plt"
   ]
  },
  {
   "cell_type": "markdown",
   "metadata": {},
   "source": [
    "### Log"
   ]
  },
  {
   "cell_type": "code",
   "execution_count": 19,
   "metadata": {},
   "outputs": [],
   "source": [
    "logger = log.getLogger('logger')\n",
    "logger.setLevel(log.DEBUG)\n",
    "# sklearn só gera log quando nível é DEBUG ou INFO\n",
    "verbose = max((log.WARNING - logger.getEffectiveLevel()), 0)"
   ]
  },
  {
   "cell_type": "markdown",
   "metadata": {},
   "source": [
    "# Conhecendo os dados"
   ]
  },
  {
   "cell_type": "markdown",
   "metadata": {},
   "source": [
    "## Leiaute\n"
   ]
  },
  {
   "cell_type": "markdown",
   "metadata": {},
   "source": [
    "Conforme enunciado, as variáveis do conjunto de dados foram divididas em duas visões:<br>\n",
    "<ul>\n",
    "    <li>Shape view: as primeiras 9 variáveis;</li>\n",
    "    <li>RGB view: as 10 últimas variáveis.</li>\n",
    "<ul>"
   ]
  },
  {
   "cell_type": "markdown",
   "metadata": {},
   "source": [
    "Observando a amostra abaixo, foi verificado que o rótulo se encontra na coluna mais à esquerda e as demais colunas são as variáveis. Mais detalhes sobre as variáveis podem ser obtidos na documentação do conjunto de dados [Image Segmentation](http://archive.ics.uci.edu/ml/machine-learning-databases/image/segmentation.names)."
   ]
  },
  {
   "cell_type": "code",
   "execution_count": 20,
   "metadata": {},
   "outputs": [
    {
     "data": {
      "text/html": [
       "<div>\n",
       "<style scoped>\n",
       "    .dataframe tbody tr th:only-of-type {\n",
       "        vertical-align: middle;\n",
       "    }\n",
       "\n",
       "    .dataframe tbody tr th {\n",
       "        vertical-align: top;\n",
       "    }\n",
       "\n",
       "    .dataframe thead th {\n",
       "        text-align: right;\n",
       "    }\n",
       "</style>\n",
       "<table border=\"1\" class=\"dataframe\">\n",
       "  <thead>\n",
       "    <tr style=\"text-align: right;\">\n",
       "      <th></th>\n",
       "      <th>LABEL</th>\n",
       "      <th>REGION-CENTROID-COL</th>\n",
       "      <th>REGION-CENTROID-ROW</th>\n",
       "      <th>REGION-PIXEL-COUNT</th>\n",
       "      <th>SHORT-LINE-DENSITY-5</th>\n",
       "      <th>SHORT-LINE-DENSITY-2</th>\n",
       "      <th>VEDGE-MEAN</th>\n",
       "      <th>VEDGE-SD</th>\n",
       "      <th>HEDGE-MEAN</th>\n",
       "      <th>HEDGE-SD</th>\n",
       "      <th>INTENSITY-MEAN</th>\n",
       "      <th>RAWRED-MEAN</th>\n",
       "      <th>RAWBLUE-MEAN</th>\n",
       "      <th>RAWGREEN-MEAN</th>\n",
       "      <th>EXRED-MEAN</th>\n",
       "      <th>EXBLUE-MEAN</th>\n",
       "      <th>EXGREEN-MEAN</th>\n",
       "      <th>VALUE-MEAN</th>\n",
       "      <th>SATURATION-MEAN</th>\n",
       "      <th>HUE-MEAN</th>\n",
       "    </tr>\n",
       "  </thead>\n",
       "  <tbody>\n",
       "    <tr>\n",
       "      <th>0</th>\n",
       "      <td>GRASS</td>\n",
       "      <td>110.0</td>\n",
       "      <td>189.0</td>\n",
       "      <td>9</td>\n",
       "      <td>0.0</td>\n",
       "      <td>0.0</td>\n",
       "      <td>1.000000</td>\n",
       "      <td>0.666667</td>\n",
       "      <td>1.222222</td>\n",
       "      <td>1.186342</td>\n",
       "      <td>12.925926</td>\n",
       "      <td>10.888889</td>\n",
       "      <td>9.222222</td>\n",
       "      <td>18.666668</td>\n",
       "      <td>-6.111111</td>\n",
       "      <td>-11.111111</td>\n",
       "      <td>17.222221</td>\n",
       "      <td>18.666668</td>\n",
       "      <td>0.508139</td>\n",
       "      <td>1.910864</td>\n",
       "    </tr>\n",
       "    <tr>\n",
       "      <th>1</th>\n",
       "      <td>GRASS</td>\n",
       "      <td>86.0</td>\n",
       "      <td>187.0</td>\n",
       "      <td>9</td>\n",
       "      <td>0.0</td>\n",
       "      <td>0.0</td>\n",
       "      <td>1.111111</td>\n",
       "      <td>0.720082</td>\n",
       "      <td>1.444444</td>\n",
       "      <td>0.750309</td>\n",
       "      <td>13.740741</td>\n",
       "      <td>11.666667</td>\n",
       "      <td>10.333334</td>\n",
       "      <td>19.222221</td>\n",
       "      <td>-6.222222</td>\n",
       "      <td>-10.222222</td>\n",
       "      <td>16.444445</td>\n",
       "      <td>19.222221</td>\n",
       "      <td>0.463329</td>\n",
       "      <td>1.941465</td>\n",
       "    </tr>\n",
       "    <tr>\n",
       "      <th>2</th>\n",
       "      <td>GRASS</td>\n",
       "      <td>225.0</td>\n",
       "      <td>244.0</td>\n",
       "      <td>9</td>\n",
       "      <td>0.0</td>\n",
       "      <td>0.0</td>\n",
       "      <td>3.388889</td>\n",
       "      <td>2.195113</td>\n",
       "      <td>3.000000</td>\n",
       "      <td>1.520234</td>\n",
       "      <td>12.259259</td>\n",
       "      <td>10.333334</td>\n",
       "      <td>9.333334</td>\n",
       "      <td>17.111110</td>\n",
       "      <td>-5.777778</td>\n",
       "      <td>-8.777778</td>\n",
       "      <td>14.555555</td>\n",
       "      <td>17.111110</td>\n",
       "      <td>0.480149</td>\n",
       "      <td>1.987902</td>\n",
       "    </tr>\n",
       "  </tbody>\n",
       "</table>\n",
       "</div>"
      ],
      "text/plain": [
       "   LABEL  REGION-CENTROID-COL  REGION-CENTROID-ROW  REGION-PIXEL-COUNT  \\\n",
       "0  GRASS                110.0                189.0                   9   \n",
       "1  GRASS                 86.0                187.0                   9   \n",
       "2  GRASS                225.0                244.0                   9   \n",
       "\n",
       "   SHORT-LINE-DENSITY-5  SHORT-LINE-DENSITY-2  VEDGE-MEAN  VEDGE-SD  \\\n",
       "0                   0.0                   0.0    1.000000  0.666667   \n",
       "1                   0.0                   0.0    1.111111  0.720082   \n",
       "2                   0.0                   0.0    3.388889  2.195113   \n",
       "\n",
       "   HEDGE-MEAN  HEDGE-SD  INTENSITY-MEAN  RAWRED-MEAN  RAWBLUE-MEAN  \\\n",
       "0    1.222222  1.186342       12.925926    10.888889      9.222222   \n",
       "1    1.444444  0.750309       13.740741    11.666667     10.333334   \n",
       "2    3.000000  1.520234       12.259259    10.333334      9.333334   \n",
       "\n",
       "   RAWGREEN-MEAN  EXRED-MEAN  EXBLUE-MEAN  EXGREEN-MEAN  VALUE-MEAN  \\\n",
       "0      18.666668   -6.111111   -11.111111     17.222221   18.666668   \n",
       "1      19.222221   -6.222222   -10.222222     16.444445   19.222221   \n",
       "2      17.111110   -5.777778    -8.777778     14.555555   17.111110   \n",
       "\n",
       "   SATURATION-MEAN  HUE-MEAN  \n",
       "0         0.508139  1.910864  \n",
       "1         0.463329  1.941465  \n",
       "2         0.480149  1.987902  "
      ]
     },
     "execution_count": 20,
     "metadata": {},
     "output_type": "execute_result"
    }
   ],
   "source": [
    "# carrega dados\n",
    "data = pd.read_csv('segmentation.test', skiprows=[0,1,2,4])\n",
    "# move os dados de rótulo para uma coluna\n",
    "data = data.reset_index()\n",
    "# renomeia coluna do rótulo\n",
    "data = data.rename(index=str, columns={'index': 'LABEL'})\n",
    "data.head(3)"
   ]
  },
  {
   "cell_type": "markdown",
   "metadata": {},
   "source": [
    "Antes de passar os dados para os classificadores, é preciso confirmar que os tipos das variáveis são numéricos. A tabela abaixo confirma isso, pois os tipos das variáveis se limitam a float64 e int64. Além disso, a semântica das variáveis nos garante que não há dados categóricos. Conforme documetação do conjunto de dados, todas as variáveis são números ordinais. Nesse caso, as variáveis já estão em formatos compatíveis com os classificadores que serão usados mais à frente, sem a necessidade de pré-processamento."
   ]
  },
  {
   "cell_type": "code",
   "execution_count": 21,
   "metadata": {
    "scrolled": true
   },
   "outputs": [
    {
     "data": {
      "text/plain": [
       "LABEL                    object\n",
       "REGION-CENTROID-COL     float64\n",
       "REGION-CENTROID-ROW     float64\n",
       "REGION-PIXEL-COUNT        int64\n",
       "SHORT-LINE-DENSITY-5    float64\n",
       "SHORT-LINE-DENSITY-2    float64\n",
       "VEDGE-MEAN              float64\n",
       "VEDGE-SD                float64\n",
       "HEDGE-MEAN              float64\n",
       "HEDGE-SD                float64\n",
       "INTENSITY-MEAN          float64\n",
       "RAWRED-MEAN             float64\n",
       "RAWBLUE-MEAN            float64\n",
       "RAWGREEN-MEAN           float64\n",
       "EXRED-MEAN              float64\n",
       "EXBLUE-MEAN             float64\n",
       "EXGREEN-MEAN            float64\n",
       "VALUE-MEAN              float64\n",
       "SATURATION-MEAN         float64\n",
       "HUE-MEAN                float64\n",
       "dtype: object"
      ]
     },
     "execution_count": 21,
     "metadata": {},
     "output_type": "execute_result"
    }
   ],
   "source": [
    "data.dtypes"
   ]
  },
  {
   "cell_type": "markdown",
   "metadata": {},
   "source": [
    "## Estatísticas"
   ]
  },
  {
   "cell_type": "markdown",
   "metadata": {},
   "source": [
    "A tabela abaixo mostra propriedades estatísticas das variáveis. Cada coluna corresponde a uma variável e cada linha corresponde a uma propriedade. A partir das propriedades min (mínimo), max (máximo) e mean (média), é possível ver que as variáves não estão na mesma escala e nem possuem a mesma média. Porém, isso não foi um problema para os classificadores que foram usados no experimento. Os classificadores bayesiano gaussiano (GaussianNB) e bayesiano baseado em janela de Parzen com função de kernel gaussiana (ParzenWindowB) são robustos às diferenças de escala entre as variáveis."
   ]
  },
  {
   "cell_type": "code",
   "execution_count": 22,
   "metadata": {},
   "outputs": [
    {
     "data": {
      "text/html": [
       "<div>\n",
       "<style scoped>\n",
       "    .dataframe tbody tr th:only-of-type {\n",
       "        vertical-align: middle;\n",
       "    }\n",
       "\n",
       "    .dataframe tbody tr th {\n",
       "        vertical-align: top;\n",
       "    }\n",
       "\n",
       "    .dataframe thead th {\n",
       "        text-align: right;\n",
       "    }\n",
       "</style>\n",
       "<table border=\"1\" class=\"dataframe\">\n",
       "  <thead>\n",
       "    <tr style=\"text-align: right;\">\n",
       "      <th></th>\n",
       "      <th>REGION-CENTROID-COL</th>\n",
       "      <th>REGION-CENTROID-ROW</th>\n",
       "      <th>REGION-PIXEL-COUNT</th>\n",
       "      <th>SHORT-LINE-DENSITY-5</th>\n",
       "      <th>SHORT-LINE-DENSITY-2</th>\n",
       "      <th>VEDGE-MEAN</th>\n",
       "      <th>VEDGE-SD</th>\n",
       "      <th>HEDGE-MEAN</th>\n",
       "      <th>HEDGE-SD</th>\n",
       "      <th>INTENSITY-MEAN</th>\n",
       "      <th>RAWRED-MEAN</th>\n",
       "      <th>RAWBLUE-MEAN</th>\n",
       "      <th>RAWGREEN-MEAN</th>\n",
       "      <th>EXRED-MEAN</th>\n",
       "      <th>EXBLUE-MEAN</th>\n",
       "      <th>EXGREEN-MEAN</th>\n",
       "      <th>VALUE-MEAN</th>\n",
       "      <th>SATURATION-MEAN</th>\n",
       "      <th>HUE-MEAN</th>\n",
       "    </tr>\n",
       "  </thead>\n",
       "  <tbody>\n",
       "    <tr>\n",
       "      <th>count</th>\n",
       "      <td>2100.000000</td>\n",
       "      <td>2100.000000</td>\n",
       "      <td>2100.0</td>\n",
       "      <td>2100.000000</td>\n",
       "      <td>2100.000000</td>\n",
       "      <td>2100.000000</td>\n",
       "      <td>2100.000000</td>\n",
       "      <td>2100.000000</td>\n",
       "      <td>2.100000e+03</td>\n",
       "      <td>2100.000000</td>\n",
       "      <td>2100.000000</td>\n",
       "      <td>2100.000000</td>\n",
       "      <td>2100.000000</td>\n",
       "      <td>2100.000000</td>\n",
       "      <td>2100.000000</td>\n",
       "      <td>2100.000000</td>\n",
       "      <td>2100.000000</td>\n",
       "      <td>2100.000000</td>\n",
       "      <td>2100.000000</td>\n",
       "    </tr>\n",
       "    <tr>\n",
       "      <th>mean</th>\n",
       "      <td>124.940476</td>\n",
       "      <td>123.483333</td>\n",
       "      <td>9.0</td>\n",
       "      <td>0.014921</td>\n",
       "      <td>0.004550</td>\n",
       "      <td>1.890820</td>\n",
       "      <td>5.708299</td>\n",
       "      <td>2.406772</td>\n",
       "      <td>7.904224e+00</td>\n",
       "      <td>37.047654</td>\n",
       "      <td>32.806667</td>\n",
       "      <td>44.205556</td>\n",
       "      <td>34.130741</td>\n",
       "      <td>-12.722963</td>\n",
       "      <td>21.473704</td>\n",
       "      <td>-8.750741</td>\n",
       "      <td>45.162381</td>\n",
       "      <td>0.427259</td>\n",
       "      <td>-1.365147</td>\n",
       "    </tr>\n",
       "    <tr>\n",
       "      <th>std</th>\n",
       "      <td>72.858637</td>\n",
       "      <td>57.431428</td>\n",
       "      <td>0.0</td>\n",
       "      <td>0.041024</td>\n",
       "      <td>0.023573</td>\n",
       "      <td>2.649453</td>\n",
       "      <td>44.989359</td>\n",
       "      <td>3.469954</td>\n",
       "      <td>5.347107e+01</td>\n",
       "      <td>38.135291</td>\n",
       "      <td>34.994538</td>\n",
       "      <td>43.510119</td>\n",
       "      <td>36.303768</td>\n",
       "      <td>11.588214</td>\n",
       "      <td>19.654107</td>\n",
       "      <td>11.606996</td>\n",
       "      <td>42.900582</td>\n",
       "      <td>0.228458</td>\n",
       "      <td>1.544278</td>\n",
       "    </tr>\n",
       "    <tr>\n",
       "      <th>min</th>\n",
       "      <td>1.000000</td>\n",
       "      <td>11.000000</td>\n",
       "      <td>9.0</td>\n",
       "      <td>0.000000</td>\n",
       "      <td>0.000000</td>\n",
       "      <td>0.000000</td>\n",
       "      <td>0.000000</td>\n",
       "      <td>0.000000</td>\n",
       "      <td>-1.589457e-08</td>\n",
       "      <td>0.000000</td>\n",
       "      <td>0.000000</td>\n",
       "      <td>0.000000</td>\n",
       "      <td>0.000000</td>\n",
       "      <td>-49.666668</td>\n",
       "      <td>-12.444445</td>\n",
       "      <td>-33.888890</td>\n",
       "      <td>0.000000</td>\n",
       "      <td>0.000000</td>\n",
       "      <td>-3.044175</td>\n",
       "    </tr>\n",
       "    <tr>\n",
       "      <th>25%</th>\n",
       "      <td>62.000000</td>\n",
       "      <td>81.000000</td>\n",
       "      <td>9.0</td>\n",
       "      <td>0.000000</td>\n",
       "      <td>0.000000</td>\n",
       "      <td>0.722222</td>\n",
       "      <td>0.349603</td>\n",
       "      <td>0.833332</td>\n",
       "      <td>4.216377e-01</td>\n",
       "      <td>7.472222</td>\n",
       "      <td>7.000000</td>\n",
       "      <td>9.666667</td>\n",
       "      <td>6.222222</td>\n",
       "      <td>-18.583333</td>\n",
       "      <td>4.305556</td>\n",
       "      <td>-17.000000</td>\n",
       "      <td>11.777778</td>\n",
       "      <td>0.284934</td>\n",
       "      <td>-2.188539</td>\n",
       "    </tr>\n",
       "    <tr>\n",
       "      <th>50%</th>\n",
       "      <td>121.000000</td>\n",
       "      <td>122.000000</td>\n",
       "      <td>9.0</td>\n",
       "      <td>0.000000</td>\n",
       "      <td>0.000000</td>\n",
       "      <td>1.277776</td>\n",
       "      <td>0.833333</td>\n",
       "      <td>1.444444</td>\n",
       "      <td>9.897442e-01</td>\n",
       "      <td>21.666666</td>\n",
       "      <td>19.666668</td>\n",
       "      <td>27.777779</td>\n",
       "      <td>20.444445</td>\n",
       "      <td>-10.888889</td>\n",
       "      <td>19.666666</td>\n",
       "      <td>-11.000000</td>\n",
       "      <td>28.666666</td>\n",
       "      <td>0.375064</td>\n",
       "      <td>-2.052625</td>\n",
       "    </tr>\n",
       "    <tr>\n",
       "      <th>75%</th>\n",
       "      <td>188.250000</td>\n",
       "      <td>171.250000</td>\n",
       "      <td>9.0</td>\n",
       "      <td>0.000000</td>\n",
       "      <td>0.000000</td>\n",
       "      <td>2.222221</td>\n",
       "      <td>1.807406</td>\n",
       "      <td>2.555556</td>\n",
       "      <td>2.251852e+00</td>\n",
       "      <td>53.277778</td>\n",
       "      <td>47.333332</td>\n",
       "      <td>65.000000</td>\n",
       "      <td>46.388888</td>\n",
       "      <td>-4.222222</td>\n",
       "      <td>36.111110</td>\n",
       "      <td>-3.222222</td>\n",
       "      <td>65.000000</td>\n",
       "      <td>0.540228</td>\n",
       "      <td>-1.565745</td>\n",
       "    </tr>\n",
       "    <tr>\n",
       "      <th>max</th>\n",
       "      <td>254.000000</td>\n",
       "      <td>251.000000</td>\n",
       "      <td>9.0</td>\n",
       "      <td>0.333333</td>\n",
       "      <td>0.222222</td>\n",
       "      <td>29.222221</td>\n",
       "      <td>991.718400</td>\n",
       "      <td>44.722225</td>\n",
       "      <td>1.386329e+03</td>\n",
       "      <td>143.444440</td>\n",
       "      <td>137.111110</td>\n",
       "      <td>150.888890</td>\n",
       "      <td>142.555560</td>\n",
       "      <td>9.888889</td>\n",
       "      <td>82.000000</td>\n",
       "      <td>24.666666</td>\n",
       "      <td>150.888890</td>\n",
       "      <td>1.000000</td>\n",
       "      <td>2.912480</td>\n",
       "    </tr>\n",
       "  </tbody>\n",
       "</table>\n",
       "</div>"
      ],
      "text/plain": [
       "       REGION-CENTROID-COL  REGION-CENTROID-ROW  REGION-PIXEL-COUNT  \\\n",
       "count          2100.000000          2100.000000              2100.0   \n",
       "mean            124.940476           123.483333                 9.0   \n",
       "std              72.858637            57.431428                 0.0   \n",
       "min               1.000000            11.000000                 9.0   \n",
       "25%              62.000000            81.000000                 9.0   \n",
       "50%             121.000000           122.000000                 9.0   \n",
       "75%             188.250000           171.250000                 9.0   \n",
       "max             254.000000           251.000000                 9.0   \n",
       "\n",
       "       SHORT-LINE-DENSITY-5  SHORT-LINE-DENSITY-2   VEDGE-MEAN     VEDGE-SD  \\\n",
       "count           2100.000000           2100.000000  2100.000000  2100.000000   \n",
       "mean               0.014921              0.004550     1.890820     5.708299   \n",
       "std                0.041024              0.023573     2.649453    44.989359   \n",
       "min                0.000000              0.000000     0.000000     0.000000   \n",
       "25%                0.000000              0.000000     0.722222     0.349603   \n",
       "50%                0.000000              0.000000     1.277776     0.833333   \n",
       "75%                0.000000              0.000000     2.222221     1.807406   \n",
       "max                0.333333              0.222222    29.222221   991.718400   \n",
       "\n",
       "        HEDGE-MEAN      HEDGE-SD  INTENSITY-MEAN  RAWRED-MEAN  RAWBLUE-MEAN  \\\n",
       "count  2100.000000  2.100000e+03     2100.000000  2100.000000   2100.000000   \n",
       "mean      2.406772  7.904224e+00       37.047654    32.806667     44.205556   \n",
       "std       3.469954  5.347107e+01       38.135291    34.994538     43.510119   \n",
       "min       0.000000 -1.589457e-08        0.000000     0.000000      0.000000   \n",
       "25%       0.833332  4.216377e-01        7.472222     7.000000      9.666667   \n",
       "50%       1.444444  9.897442e-01       21.666666    19.666668     27.777779   \n",
       "75%       2.555556  2.251852e+00       53.277778    47.333332     65.000000   \n",
       "max      44.722225  1.386329e+03      143.444440   137.111110    150.888890   \n",
       "\n",
       "       RAWGREEN-MEAN   EXRED-MEAN  EXBLUE-MEAN  EXGREEN-MEAN   VALUE-MEAN  \\\n",
       "count    2100.000000  2100.000000  2100.000000   2100.000000  2100.000000   \n",
       "mean       34.130741   -12.722963    21.473704     -8.750741    45.162381   \n",
       "std        36.303768    11.588214    19.654107     11.606996    42.900582   \n",
       "min         0.000000   -49.666668   -12.444445    -33.888890     0.000000   \n",
       "25%         6.222222   -18.583333     4.305556    -17.000000    11.777778   \n",
       "50%        20.444445   -10.888889    19.666666    -11.000000    28.666666   \n",
       "75%        46.388888    -4.222222    36.111110     -3.222222    65.000000   \n",
       "max       142.555560     9.888889    82.000000     24.666666   150.888890   \n",
       "\n",
       "       SATURATION-MEAN     HUE-MEAN  \n",
       "count      2100.000000  2100.000000  \n",
       "mean          0.427259    -1.365147  \n",
       "std           0.228458     1.544278  \n",
       "min           0.000000    -3.044175  \n",
       "25%           0.284934    -2.188539  \n",
       "50%           0.375064    -2.052625  \n",
       "75%           0.540228    -1.565745  \n",
       "max           1.000000     2.912480  "
      ]
     },
     "execution_count": 22,
     "metadata": {},
     "output_type": "execute_result"
    }
   ],
   "source": [
    "data.describe()"
   ]
  },
  {
   "cell_type": "markdown",
   "metadata": {},
   "source": [
    "## Seleção de variáveis"
   ]
  },
  {
   "cell_type": "markdown",
   "metadata": {},
   "source": [
    "A partir da propriedade std (desvio padrão) da tabela acima, também é possível verificar que a variável REGION-PIXEL-COUNT é a constante 9. Isso a torna irrelevante para os classificadores e até criou complicações na execução do experimento, como divisão por zero na validação cruzada que define o tamanho da janela de Parzen. Por isso, ela foi excluída do conjunto de dados com o comando abaixo."
   ]
  },
  {
   "cell_type": "code",
   "execution_count": 23,
   "metadata": {},
   "outputs": [],
   "source": [
    "data = data.drop(columns=['REGION-PIXEL-COUNT'])"
   ]
  },
  {
   "cell_type": "markdown",
   "metadata": {},
   "source": [
    "# Execução do experimento"
   ]
  },
  {
   "cell_type": "markdown",
   "metadata": {},
   "source": [
    "O experimento consiste em executar a validação cruzada estratificada \"30 times 10-fold\" para cada combinação de classificador e visão das variáveis e para o classificador combinado. Para isso, vários passos de preparação foram realizados antes da validação cruzada propriamente dita dos classificadores. Todos os passos serão descritos a seguir:"
   ]
  },
  {
   "cell_type": "markdown",
   "metadata": {},
   "source": [
    "## Preparação"
   ]
  },
  {
   "cell_type": "markdown",
   "metadata": {},
   "source": [
    "1) Define uma semente para estado aleatório do experimento."
   ]
  },
  {
   "cell_type": "code",
   "execution_count": 24,
   "metadata": {},
   "outputs": [
    {
     "data": {
      "text/plain": [
       "3141592654"
      ]
     },
     "execution_count": 24,
     "metadata": {},
     "output_type": "execute_result"
    }
   ],
   "source": [
    "# dez primeiros dígitos de pi\n",
    "seed = round(ma.pi * 10**9)\n",
    "seed"
   ]
  },
  {
   "cell_type": "markdown",
   "metadata": {},
   "source": [
    "2) Separa o rótulo das variáveis."
   ]
  },
  {
   "cell_type": "code",
   "execution_count": 25,
   "metadata": {},
   "outputs": [],
   "source": [
    "# variáveis\n",
    "X = data[data.columns[1:]]\n",
    "# rótulo\n",
    "y = data['LABEL']"
   ]
  },
  {
   "cell_type": "markdown",
   "metadata": {},
   "source": [
    "3) Cria o classificador combinado. Conforme enunciado, esse classificador consiste na combinação de seis combinações de visões e classificadores com a regra da soma:\n",
    "<ul>\n",
    "    <li>Complete view e GaussianNB;</li>\n",
    "    <li>Shape view e GaussianNB;</li>\n",
    "    <li>RGB view e GaussianNB;</li>\n",
    "    <li>Complete view e ParzenWindowB;</li>\n",
    "    <li>Shape view e ParzenWindowB;</li>\n",
    "    <li>RGB view e ParzenWindowB.</li>\n",
    "</ul>\n",
    "Mais detalhes sobre a regra de combinação podem ser obtidos na documentação de [VotingClassifier](http://scikit-learn.org/stable/modules/generated/sklearn.ensemble.VotingClassifier.html) [\\[3\\]](#ref3) e no artigo [\\[2\\]](#ref2)."
   ]
  },
  {
   "cell_type": "code",
   "execution_count": 26,
   "metadata": {},
   "outputs": [],
   "source": [
    "# define as opções para as combinações de visões e classificadores\n",
    "param_grid = {'a_view': [tr.CompleteView(), tr.ShapeView(), tr.RgbView()],\n",
    "              'b_clf': [nb.GaussianNB(), pa.ParzenWindowB()]}\n",
    "# monta pipelines de todas as combinações\n",
    "all_steps = list(map(lambda params: list(params.items()), ms.ParameterGrid(param_grid)))\n",
    "pipelines = list(map(lambda steps: ('clf'+str(all_steps.index(steps)), pi.Pipeline(steps)), all_steps))\n",
    "# classificador combinado com regra da média (equivalente a regra )\n",
    "combined = en.VotingClassifier(estimators=pipelines, voting='soft')"
   ]
  },
  {
   "cell_type": "markdown",
   "metadata": {},
   "source": [
    "4) Define dicionários dos nomes das visões e dos classificadores. Esses nomes serão vistos mais à frente, pois foram utilizados na formatação dos resultados."
   ]
  },
  {
   "cell_type": "code",
   "execution_count": 27,
   "metadata": {},
   "outputs": [],
   "source": [
    "views = {tr.CompleteView(): 'comp',\n",
    "        tr.ShapeView(): 'shape',\n",
    "        tr.RgbView(): 'rgb'}\n",
    "clfs = {nb.GaussianNB(): 'gnb',\n",
    "        pa.ParzenWindowB(): 'pwb'}\n",
    "clf_combined = {combined: 'combined'}"
   ]
  },
  {
   "cell_type": "markdown",
   "metadata": {},
   "source": [
    "5) Une dicionários de nomes em um único dicionário."
   ]
  },
  {
   "cell_type": "code",
   "execution_count": 28,
   "metadata": {},
   "outputs": [],
   "source": [
    "names = dict(views)\n",
    "names.update(clfs)\n",
    "names.update(clf_combined)"
   ]
  },
  {
   "cell_type": "markdown",
   "metadata": {},
   "source": [
    "## Validação cruzada"
   ]
  },
  {
   "cell_type": "markdown",
   "metadata": {},
   "source": [
    "Executa a validação cruzada extratificada com cada combinação de visão e classificador simples e com o classificador combinado. Conforme enunciado da questão, as visões das variáveis são complete, shape e rgb e os classificadores simples são bayesiano gaussiano e bayesiano baseado em janela de Parzen. Devido à diferença na estrutura do pipeline, o classificador combinado foi criado na seção [Preparação](#Preparação) e incluído de forma isolada no experimento para evitar novas combinações com as visões."
   ]
  },
  {
   "cell_type": "code",
   "execution_count": null,
   "metadata": {
    "scrolled": true
   },
   "outputs": [],
   "source": [
    "# limpa cache do tamanho da janela de Parzen (bandwidth)\n",
    "#pa.BandwidthOptimizer().clear_cache()\n",
    "\n",
    "# os passos abaixo definem apenas a estrutura do pipeline\n",
    "# o primeiro passo define a visão das variáveis\n",
    "# o segundo passo define o classificador simples.\n",
    "steps = [('a_view', tr.CompleteView()),\n",
    "         ('b_clf', nb.GaussianNB())]\n",
    "pipe = pi.Pipeline(steps)\n",
    "\n",
    "# o grid de parâmetros abaixo define todas as opções de visões e classificadores simples para combinação \n",
    "# e define a opção isolada do classificador combinado\n",
    "param_grid = [{'a_view': list(views.keys()),\n",
    "               'b_clf': list(clfs.keys())},\n",
    "              {'b_clf': list(clf_combined.keys())}\n",
    "             ]\n",
    "# a busca em grid repete o experimento 30 vezes para cada combinação de parâmetros\n",
    "grid_search = ms.GridSearchCV(pipe, param_grid=param_grid, cv=ms.RepeatedStratifiedKFold(n_splits=10,n_repeats=30,random_state=seed),verbose=verbose,return_train_score=False)\n",
    "grid_search.fit(X, y);"
   ]
  },
  {
   "cell_type": "code",
   "execution_count": 30,
   "metadata": {},
   "outputs": [],
   "source": [
    "logger.debug(pp.pformat(grid_search.cv_results_))"
   ]
  },
  {
   "cell_type": "markdown",
   "metadata": {},
   "source": [
    "### Classificadores utilizados"
   ]
  },
  {
   "cell_type": "markdown",
   "metadata": {},
   "source": [
    "O classificador bayesiano gaussiano utiliado assume que as variáveis seguem uma distribuição normal multivariada e são independentes. Além disso, desconsidera as probabilidades a priori, já que o conjunto de dados possui uma distribuição uniforme entre as classes. Então, na etapa de treinamento, uma função de distribuição de probalidade condicional é estimada para cada classe com base na forma paramétrica de uma função de distribuiçao normal multivariada. Na etapa de classificaçao, para cada classe, uma probabilidade a posteriori é calculada com base na função de densidade de probabilidade condicional da respectiva classe. Por fim, o exemplo é dito como da classe com maior probabilidade a posteriori. Mais detalhes sobre o classificador bayesiano gaussiano podem ser obtidos na documentação de [GaussianNB](http://scikit-learn.org/stable/modules/generated/sklearn.naive_bayes.GaussianNB.html) [\\[3\\]](#ref3)."
   ]
  },
  {
   "cell_type": "markdown",
   "metadata": {},
   "source": [
    "O classificador bayesiano baseado em janela de Parzen utilizado não assume a forma de distribuição das variáveis e não assume que elas são independentes. Além disso, a função de janela foi substituída por uma função de kernel gaussiana. Assim como o classificador bayesiano gaussiano, esse classificador desconsidera as probabilidades a priori. Então, na etapa de treinamento, os dados são apenas carregados. Na etapa de classificação, esse classificador utiliza a regra do produto para combinar as funções de kernel gaussianas das variáveis e obter o resultado da função de densidade de probabilidade condicional de cada classe. Com esses valores, ele calcula as probabilidades a posteriori de cada classe. Por fim, o exemplo é dito como da classe com maior probabilidade a posteriori.  Mais detalhes sobre o classificador bayesiano baseado em janela de Parzen com função de kernel gaussiana podem ser obtidos no código fonte de [ParzenWindowB](./parzen.py) e na documentação de [KDEMultivariate](o classificador bayesiano baseado em janela de Parzen com função de kernel gaussiana)."
   ]
  },
  {
   "cell_type": "markdown",
   "metadata": {},
   "source": [
    "### Tamanho da janela de Parzen"
   ]
  },
  {
   "cell_type": "markdown",
   "metadata": {},
   "source": [
    "Vale salientar que o classificador ParzenWindowB faz um validação cruzada interna para encontrar o melhor tamanho de janela para o conjunto de dados de treinamento de cada rodada de validação cruzada do experimento. Os valores avaliados na validação cruzada interna são 3, 4 e 5."
   ]
  },
  {
   "cell_type": "markdown",
   "metadata": {},
   "source": [
    "Mais detalhes sobre a definição do tamanho da janela de Parzen podem ser obtidos no código fonte de [BandwidthOptimizer](./parzen.py)."
   ]
  },
  {
   "cell_type": "markdown",
   "metadata": {},
   "source": [
    "### Tempo de execução"
   ]
  },
  {
   "cell_type": "markdown",
   "metadata": {},
   "source": [
    "Em um computador com Processador Intel(R) Core(TM) i7-7500U CPU @ 2.70GHz, 2 Núcleo(s), 2,0 GB de Memória RAM, a execução da validação cruzada levou 260,2 min (por volta de 4 h). Foi verificado que a validação cruzada para definição do tamanho da janela de Parzen introduz bastante custo computacional e ela ocorre de forma idêntica nos classificadores simples e no combinado. Então, para evitar o recálculo desses valores dentro de uma mesma validação cruzada ou em reexecuções completas, foi introduzido um mecanismo de cache em BandwidthOptimizer. Essa otimização baixou o tempo de reexecução para 11,0 min. Porém, o tempo de execução de ParzenWindowB ainda permaneceu relativamente elevado. Enquanto que, utilizando todas as variáveis, GaussianNB executa uma rodada de validação cruzada em um tempo na ordem de 10^-3 s, ParzenWindowB fica na ordem de 10^1 s (sem cache) e 10^-1 s (com cache). Esse resultado é um indício de que ParzenWindowB, sem otimizações adicionais, pode não ser uma boa opção para um contexto que exige alta performance computacional."
   ]
  },
  {
   "cell_type": "markdown",
   "metadata": {},
   "source": [
    "### Reprodução"
   ]
  },
  {
   "cell_type": "markdown",
   "metadata": {},
   "source": [
    "Todo código fonte utilizado se encontra disponível em um repositorio do [GitHub](https://github.com/amorim-cleison/cin_am/). Além disso, um ambiente de execução similar ao do experimento se encontra disponível no [Binder](https://mybinder.org/v2/gh/amorim-cleison/cin_am/develop?filepath=questao_2%2Fquestao2.ipynb)."
   ]
  },
  {
   "cell_type": "markdown",
   "metadata": {},
   "source": [
    "## Avaliação dos resultados individuais"
   ]
  },
  {
   "cell_type": "markdown",
   "metadata": {},
   "source": [
    "Esta seção tem o objetivo de formatar os dados gerados pelo experimento, obter uma estimativa pontual e um intervalo de confiança para a taxa de acerto de cada classificador."
   ]
  },
  {
   "cell_type": "markdown",
   "metadata": {},
   "source": [
    "### Formatação dos dados"
   ]
  },
  {
   "cell_type": "markdown",
   "metadata": {},
   "source": [
    "Os dados gerados pelo experimento que são relevantes para este trabalho consistem em uma matriz no formato \"rodada de validação cruzada\" x \"classificador\" (300 x 7), com um valor de \"taxa de acerto\" em cada célula. Porém, conforme orientado, é preciso calcular a média da taxa de acerto para cada repetição da validação cruzada antes de seguir em frente. Dessa forma, a nova matriz, exibida abaixo, ficou no formato \"repetição\" x \"classificador\" (30 x 7), com uma média da \"taxa de acerto\" em cada célula. Cada repetição corresponde a 10 rodadas de validação cruzada, pois a divisão do conjunto de dados é 10-fold. Vide a seção [Preparação](#Preparação) para obter o dicionário de nomes das abreviaçoes referenciadas na matriz abaixo."
   ]
  },
  {
   "cell_type": "code",
   "execution_count": 31,
   "metadata": {},
   "outputs": [
    {
     "data": {
      "text/html": [
       "<div>\n",
       "<style scoped>\n",
       "    .dataframe tbody tr th:only-of-type {\n",
       "        vertical-align: middle;\n",
       "    }\n",
       "\n",
       "    .dataframe tbody tr th {\n",
       "        vertical-align: top;\n",
       "    }\n",
       "\n",
       "    .dataframe thead th {\n",
       "        text-align: right;\n",
       "    }\n",
       "</style>\n",
       "<table border=\"1\" class=\"dataframe\">\n",
       "  <thead>\n",
       "    <tr style=\"text-align: right;\">\n",
       "      <th>repetition</th>\n",
       "      <th>comp_gnb</th>\n",
       "      <th>comp_pwb</th>\n",
       "      <th>shape_gnb</th>\n",
       "      <th>shape_pwb</th>\n",
       "      <th>rgb_gnb</th>\n",
       "      <th>rgb_pwb</th>\n",
       "      <th>combined</th>\n",
       "    </tr>\n",
       "  </thead>\n",
       "  <tbody>\n",
       "    <tr>\n",
       "      <th>0</th>\n",
       "      <td>0.798095</td>\n",
       "      <td>0.950952</td>\n",
       "      <td>0.478571</td>\n",
       "      <td>0.586190</td>\n",
       "      <td>0.794286</td>\n",
       "      <td>0.869048</td>\n",
       "      <td>0.937619</td>\n",
       "    </tr>\n",
       "    <tr>\n",
       "      <th>1</th>\n",
       "      <td>0.795714</td>\n",
       "      <td>0.951429</td>\n",
       "      <td>0.471905</td>\n",
       "      <td>0.583810</td>\n",
       "      <td>0.795238</td>\n",
       "      <td>0.867143</td>\n",
       "      <td>0.933810</td>\n",
       "    </tr>\n",
       "    <tr>\n",
       "      <th>2</th>\n",
       "      <td>0.796667</td>\n",
       "      <td>0.954286</td>\n",
       "      <td>0.479048</td>\n",
       "      <td>0.587143</td>\n",
       "      <td>0.790476</td>\n",
       "      <td>0.873333</td>\n",
       "      <td>0.936667</td>\n",
       "    </tr>\n",
       "    <tr>\n",
       "      <th>3</th>\n",
       "      <td>0.799048</td>\n",
       "      <td>0.954762</td>\n",
       "      <td>0.473333</td>\n",
       "      <td>0.581905</td>\n",
       "      <td>0.794762</td>\n",
       "      <td>0.871905</td>\n",
       "      <td>0.938571</td>\n",
       "    </tr>\n",
       "    <tr>\n",
       "      <th>4</th>\n",
       "      <td>0.794762</td>\n",
       "      <td>0.950000</td>\n",
       "      <td>0.479048</td>\n",
       "      <td>0.586667</td>\n",
       "      <td>0.800000</td>\n",
       "      <td>0.869524</td>\n",
       "      <td>0.938095</td>\n",
       "    </tr>\n",
       "    <tr>\n",
       "      <th>5</th>\n",
       "      <td>0.799048</td>\n",
       "      <td>0.953333</td>\n",
       "      <td>0.477143</td>\n",
       "      <td>0.588095</td>\n",
       "      <td>0.795238</td>\n",
       "      <td>0.870952</td>\n",
       "      <td>0.933810</td>\n",
       "    </tr>\n",
       "    <tr>\n",
       "      <th>6</th>\n",
       "      <td>0.795714</td>\n",
       "      <td>0.949048</td>\n",
       "      <td>0.477143</td>\n",
       "      <td>0.582857</td>\n",
       "      <td>0.792381</td>\n",
       "      <td>0.866667</td>\n",
       "      <td>0.936190</td>\n",
       "    </tr>\n",
       "    <tr>\n",
       "      <th>7</th>\n",
       "      <td>0.796190</td>\n",
       "      <td>0.951429</td>\n",
       "      <td>0.474286</td>\n",
       "      <td>0.589524</td>\n",
       "      <td>0.795238</td>\n",
       "      <td>0.868571</td>\n",
       "      <td>0.930000</td>\n",
       "    </tr>\n",
       "    <tr>\n",
       "      <th>8</th>\n",
       "      <td>0.796667</td>\n",
       "      <td>0.953333</td>\n",
       "      <td>0.473810</td>\n",
       "      <td>0.585238</td>\n",
       "      <td>0.798095</td>\n",
       "      <td>0.867619</td>\n",
       "      <td>0.935714</td>\n",
       "    </tr>\n",
       "    <tr>\n",
       "      <th>9</th>\n",
       "      <td>0.799048</td>\n",
       "      <td>0.954286</td>\n",
       "      <td>0.475714</td>\n",
       "      <td>0.587619</td>\n",
       "      <td>0.796667</td>\n",
       "      <td>0.870952</td>\n",
       "      <td>0.936667</td>\n",
       "    </tr>\n",
       "    <tr>\n",
       "      <th>10</th>\n",
       "      <td>0.796667</td>\n",
       "      <td>0.952857</td>\n",
       "      <td>0.479048</td>\n",
       "      <td>0.584762</td>\n",
       "      <td>0.794286</td>\n",
       "      <td>0.870000</td>\n",
       "      <td>0.934286</td>\n",
       "    </tr>\n",
       "    <tr>\n",
       "      <th>11</th>\n",
       "      <td>0.797143</td>\n",
       "      <td>0.953333</td>\n",
       "      <td>0.478571</td>\n",
       "      <td>0.581905</td>\n",
       "      <td>0.797143</td>\n",
       "      <td>0.865714</td>\n",
       "      <td>0.936667</td>\n",
       "    </tr>\n",
       "    <tr>\n",
       "      <th>12</th>\n",
       "      <td>0.796667</td>\n",
       "      <td>0.951905</td>\n",
       "      <td>0.472857</td>\n",
       "      <td>0.589048</td>\n",
       "      <td>0.795238</td>\n",
       "      <td>0.869048</td>\n",
       "      <td>0.934762</td>\n",
       "    </tr>\n",
       "    <tr>\n",
       "      <th>13</th>\n",
       "      <td>0.796190</td>\n",
       "      <td>0.950952</td>\n",
       "      <td>0.473333</td>\n",
       "      <td>0.589048</td>\n",
       "      <td>0.796190</td>\n",
       "      <td>0.865714</td>\n",
       "      <td>0.933810</td>\n",
       "    </tr>\n",
       "    <tr>\n",
       "      <th>14</th>\n",
       "      <td>0.796667</td>\n",
       "      <td>0.951429</td>\n",
       "      <td>0.480000</td>\n",
       "      <td>0.583810</td>\n",
       "      <td>0.796667</td>\n",
       "      <td>0.868095</td>\n",
       "      <td>0.931905</td>\n",
       "    </tr>\n",
       "    <tr>\n",
       "      <th>15</th>\n",
       "      <td>0.797143</td>\n",
       "      <td>0.948095</td>\n",
       "      <td>0.477143</td>\n",
       "      <td>0.592857</td>\n",
       "      <td>0.793810</td>\n",
       "      <td>0.870476</td>\n",
       "      <td>0.936667</td>\n",
       "    </tr>\n",
       "    <tr>\n",
       "      <th>16</th>\n",
       "      <td>0.795238</td>\n",
       "      <td>0.952857</td>\n",
       "      <td>0.474286</td>\n",
       "      <td>0.590476</td>\n",
       "      <td>0.796190</td>\n",
       "      <td>0.872381</td>\n",
       "      <td>0.935238</td>\n",
       "    </tr>\n",
       "    <tr>\n",
       "      <th>17</th>\n",
       "      <td>0.799524</td>\n",
       "      <td>0.954286</td>\n",
       "      <td>0.476190</td>\n",
       "      <td>0.584762</td>\n",
       "      <td>0.796667</td>\n",
       "      <td>0.868095</td>\n",
       "      <td>0.937619</td>\n",
       "    </tr>\n",
       "    <tr>\n",
       "      <th>18</th>\n",
       "      <td>0.795238</td>\n",
       "      <td>0.955238</td>\n",
       "      <td>0.479048</td>\n",
       "      <td>0.583333</td>\n",
       "      <td>0.791429</td>\n",
       "      <td>0.870952</td>\n",
       "      <td>0.935238</td>\n",
       "    </tr>\n",
       "    <tr>\n",
       "      <th>19</th>\n",
       "      <td>0.796667</td>\n",
       "      <td>0.954286</td>\n",
       "      <td>0.475238</td>\n",
       "      <td>0.584286</td>\n",
       "      <td>0.797143</td>\n",
       "      <td>0.869048</td>\n",
       "      <td>0.937143</td>\n",
       "    </tr>\n",
       "    <tr>\n",
       "      <th>20</th>\n",
       "      <td>0.796667</td>\n",
       "      <td>0.948095</td>\n",
       "      <td>0.476667</td>\n",
       "      <td>0.587619</td>\n",
       "      <td>0.792857</td>\n",
       "      <td>0.868095</td>\n",
       "      <td>0.934762</td>\n",
       "    </tr>\n",
       "    <tr>\n",
       "      <th>21</th>\n",
       "      <td>0.796667</td>\n",
       "      <td>0.953810</td>\n",
       "      <td>0.476667</td>\n",
       "      <td>0.582381</td>\n",
       "      <td>0.796190</td>\n",
       "      <td>0.871905</td>\n",
       "      <td>0.939524</td>\n",
       "    </tr>\n",
       "    <tr>\n",
       "      <th>22</th>\n",
       "      <td>0.798095</td>\n",
       "      <td>0.951429</td>\n",
       "      <td>0.476667</td>\n",
       "      <td>0.582381</td>\n",
       "      <td>0.794762</td>\n",
       "      <td>0.870952</td>\n",
       "      <td>0.935714</td>\n",
       "    </tr>\n",
       "    <tr>\n",
       "      <th>23</th>\n",
       "      <td>0.797143</td>\n",
       "      <td>0.953333</td>\n",
       "      <td>0.475714</td>\n",
       "      <td>0.596190</td>\n",
       "      <td>0.799524</td>\n",
       "      <td>0.869048</td>\n",
       "      <td>0.936190</td>\n",
       "    </tr>\n",
       "    <tr>\n",
       "      <th>24</th>\n",
       "      <td>0.794762</td>\n",
       "      <td>0.950000</td>\n",
       "      <td>0.474286</td>\n",
       "      <td>0.589524</td>\n",
       "      <td>0.792381</td>\n",
       "      <td>0.871905</td>\n",
       "      <td>0.933810</td>\n",
       "    </tr>\n",
       "    <tr>\n",
       "      <th>25</th>\n",
       "      <td>0.795714</td>\n",
       "      <td>0.954286</td>\n",
       "      <td>0.474286</td>\n",
       "      <td>0.582381</td>\n",
       "      <td>0.792857</td>\n",
       "      <td>0.870000</td>\n",
       "      <td>0.934286</td>\n",
       "    </tr>\n",
       "    <tr>\n",
       "      <th>26</th>\n",
       "      <td>0.796190</td>\n",
       "      <td>0.950000</td>\n",
       "      <td>0.474762</td>\n",
       "      <td>0.587143</td>\n",
       "      <td>0.795714</td>\n",
       "      <td>0.869524</td>\n",
       "      <td>0.932857</td>\n",
       "    </tr>\n",
       "    <tr>\n",
       "      <th>27</th>\n",
       "      <td>0.798095</td>\n",
       "      <td>0.953810</td>\n",
       "      <td>0.477143</td>\n",
       "      <td>0.579524</td>\n",
       "      <td>0.796667</td>\n",
       "      <td>0.872381</td>\n",
       "      <td>0.937619</td>\n",
       "    </tr>\n",
       "    <tr>\n",
       "      <th>28</th>\n",
       "      <td>0.797619</td>\n",
       "      <td>0.950000</td>\n",
       "      <td>0.477143</td>\n",
       "      <td>0.580952</td>\n",
       "      <td>0.796667</td>\n",
       "      <td>0.868095</td>\n",
       "      <td>0.934286</td>\n",
       "    </tr>\n",
       "    <tr>\n",
       "      <th>29</th>\n",
       "      <td>0.796667</td>\n",
       "      <td>0.951905</td>\n",
       "      <td>0.474762</td>\n",
       "      <td>0.592857</td>\n",
       "      <td>0.794762</td>\n",
       "      <td>0.868571</td>\n",
       "      <td>0.937619</td>\n",
       "    </tr>\n",
       "  </tbody>\n",
       "</table>\n",
       "</div>"
      ],
      "text/plain": [
       "repetition  comp_gnb  comp_pwb  shape_gnb  shape_pwb   rgb_gnb   rgb_pwb  \\\n",
       "0           0.798095  0.950952   0.478571   0.586190  0.794286  0.869048   \n",
       "1           0.795714  0.951429   0.471905   0.583810  0.795238  0.867143   \n",
       "2           0.796667  0.954286   0.479048   0.587143  0.790476  0.873333   \n",
       "3           0.799048  0.954762   0.473333   0.581905  0.794762  0.871905   \n",
       "4           0.794762  0.950000   0.479048   0.586667  0.800000  0.869524   \n",
       "5           0.799048  0.953333   0.477143   0.588095  0.795238  0.870952   \n",
       "6           0.795714  0.949048   0.477143   0.582857  0.792381  0.866667   \n",
       "7           0.796190  0.951429   0.474286   0.589524  0.795238  0.868571   \n",
       "8           0.796667  0.953333   0.473810   0.585238  0.798095  0.867619   \n",
       "9           0.799048  0.954286   0.475714   0.587619  0.796667  0.870952   \n",
       "10          0.796667  0.952857   0.479048   0.584762  0.794286  0.870000   \n",
       "11          0.797143  0.953333   0.478571   0.581905  0.797143  0.865714   \n",
       "12          0.796667  0.951905   0.472857   0.589048  0.795238  0.869048   \n",
       "13          0.796190  0.950952   0.473333   0.589048  0.796190  0.865714   \n",
       "14          0.796667  0.951429   0.480000   0.583810  0.796667  0.868095   \n",
       "15          0.797143  0.948095   0.477143   0.592857  0.793810  0.870476   \n",
       "16          0.795238  0.952857   0.474286   0.590476  0.796190  0.872381   \n",
       "17          0.799524  0.954286   0.476190   0.584762  0.796667  0.868095   \n",
       "18          0.795238  0.955238   0.479048   0.583333  0.791429  0.870952   \n",
       "19          0.796667  0.954286   0.475238   0.584286  0.797143  0.869048   \n",
       "20          0.796667  0.948095   0.476667   0.587619  0.792857  0.868095   \n",
       "21          0.796667  0.953810   0.476667   0.582381  0.796190  0.871905   \n",
       "22          0.798095  0.951429   0.476667   0.582381  0.794762  0.870952   \n",
       "23          0.797143  0.953333   0.475714   0.596190  0.799524  0.869048   \n",
       "24          0.794762  0.950000   0.474286   0.589524  0.792381  0.871905   \n",
       "25          0.795714  0.954286   0.474286   0.582381  0.792857  0.870000   \n",
       "26          0.796190  0.950000   0.474762   0.587143  0.795714  0.869524   \n",
       "27          0.798095  0.953810   0.477143   0.579524  0.796667  0.872381   \n",
       "28          0.797619  0.950000   0.477143   0.580952  0.796667  0.868095   \n",
       "29          0.796667  0.951905   0.474762   0.592857  0.794762  0.868571   \n",
       "\n",
       "repetition  combined  \n",
       "0           0.937619  \n",
       "1           0.933810  \n",
       "2           0.936667  \n",
       "3           0.938571  \n",
       "4           0.938095  \n",
       "5           0.933810  \n",
       "6           0.936190  \n",
       "7           0.930000  \n",
       "8           0.935714  \n",
       "9           0.936667  \n",
       "10          0.934286  \n",
       "11          0.936667  \n",
       "12          0.934762  \n",
       "13          0.933810  \n",
       "14          0.931905  \n",
       "15          0.936667  \n",
       "16          0.935238  \n",
       "17          0.937619  \n",
       "18          0.935238  \n",
       "19          0.937143  \n",
       "20          0.934762  \n",
       "21          0.939524  \n",
       "22          0.935714  \n",
       "23          0.936190  \n",
       "24          0.933810  \n",
       "25          0.934286  \n",
       "26          0.932857  \n",
       "27          0.937619  \n",
       "28          0.934286  \n",
       "29          0.937619  "
      ]
     },
     "execution_count": 31,
     "metadata": {},
     "output_type": "execute_result"
    }
   ],
   "source": [
    "result = rs.ResultFormatter(names=names, n_splits=10).format(grid_search.cv_results_)\n",
    "result"
   ]
  },
  {
   "cell_type": "markdown",
   "metadata": {},
   "source": [
    "### Estimativa pontual e intervalo de confiança"
   ]
  },
  {
   "cell_type": "markdown",
   "metadata": {},
   "source": [
    "A tabela abaixo contém os resultados individuais dos classificadores. \"score_mean\" é a estimativa pontual da média da taxa de acerto e \"confidence_interval\" é o intervalo no qual há 95% confiança de que o \"score_mean\" esteja presente. Como a amostra utilizada para cálcular \"score_mean\" é de tamanho 30, é possível assumir que a distribuição de \"score_mean\" se aproxima de uma distribuição normal, conforme afirma o Teorema do Limite Central. Com base nesse tipo de distribuição, foi calculado o intervalo de confiança da estimativa pontual. A combinação \"comp_pwb\" (Complete view e ParzenWindowB) foi o classificador que obteve o melhor resultado."
   ]
  },
  {
   "cell_type": "code",
   "execution_count": 32,
   "metadata": {},
   "outputs": [
    {
     "data": {
      "text/html": [
       "<div>\n",
       "<style scoped>\n",
       "    .dataframe tbody tr th:only-of-type {\n",
       "        vertical-align: middle;\n",
       "    }\n",
       "\n",
       "    .dataframe tbody tr th {\n",
       "        vertical-align: top;\n",
       "    }\n",
       "\n",
       "    .dataframe thead th {\n",
       "        text-align: right;\n",
       "    }\n",
       "</style>\n",
       "<table border=\"1\" class=\"dataframe\">\n",
       "  <thead>\n",
       "    <tr style=\"text-align: right;\">\n",
       "      <th></th>\n",
       "      <th>score_mean</th>\n",
       "      <th>confidence_interval</th>\n",
       "    </tr>\n",
       "    <tr>\n",
       "      <th>clf</th>\n",
       "      <th></th>\n",
       "      <th></th>\n",
       "    </tr>\n",
       "  </thead>\n",
       "  <tbody>\n",
       "    <tr>\n",
       "      <th>comp_gnb</th>\n",
       "      <td>0.796857</td>\n",
       "      <td>(0.796384152991, 0.797330132723)</td>\n",
       "    </tr>\n",
       "    <tr>\n",
       "      <th>comp_pwb</th>\n",
       "      <td>0.952159</td>\n",
       "      <td>(0.95140761877, 0.952909841548)</td>\n",
       "    </tr>\n",
       "    <tr>\n",
       "      <th>shape_gnb</th>\n",
       "      <td>0.476127</td>\n",
       "      <td>(0.475321249765, 0.476932718489)</td>\n",
       "    </tr>\n",
       "    <tr>\n",
       "      <th>shape_pwb</th>\n",
       "      <td>0.586143</td>\n",
       "      <td>(0.584677061536, 0.58760865275)</td>\n",
       "    </tr>\n",
       "    <tr>\n",
       "      <th>rgb_gnb</th>\n",
       "      <td>0.795317</td>\n",
       "      <td>(0.794500505578, 0.796134415057)</td>\n",
       "    </tr>\n",
       "    <tr>\n",
       "      <th>rgb_pwb</th>\n",
       "      <td>0.869524</td>\n",
       "      <td>(0.868781066783, 0.870266552264)</td>\n",
       "    </tr>\n",
       "    <tr>\n",
       "      <th>combined</th>\n",
       "      <td>0.935571</td>\n",
       "      <td>(0.934791244694, 0.936351612449)</td>\n",
       "    </tr>\n",
       "  </tbody>\n",
       "</table>\n",
       "</div>"
      ],
      "text/plain": [
       "           score_mean               confidence_interval\n",
       "clf                                                    \n",
       "comp_gnb     0.796857  (0.796384152991, 0.797330132723)\n",
       "comp_pwb     0.952159   (0.95140761877, 0.952909841548)\n",
       "shape_gnb    0.476127  (0.475321249765, 0.476932718489)\n",
       "shape_pwb    0.586143   (0.584677061536, 0.58760865275)\n",
       "rgb_gnb      0.795317  (0.794500505578, 0.796134415057)\n",
       "rgb_pwb      0.869524  (0.868781066783, 0.870266552264)\n",
       "combined     0.935571  (0.934791244694, 0.936351612449)"
      ]
     },
     "execution_count": 32,
     "metadata": {},
     "output_type": "execute_result"
    }
   ],
   "source": [
    "estimate = result.apply(st.bayes_mvs, alpha=0.95)\n",
    "estimate = pd.DataFrame.from_records(estimate.T.tolist(), index=estimate.index.rename('clf'), columns=['score_mean', 'variance', 'std_dev'])\n",
    "estimate = pd.DataFrame.from_records(estimate['score_mean'].tolist(), index=estimate.index, columns=['score_mean', 'confidence_interval'])\n",
    "estimate"
   ]
  },
  {
   "cell_type": "markdown",
   "metadata": {},
   "source": [
    "## Comparação dos classificadores"
   ]
  },
  {
   "cell_type": "markdown",
   "metadata": {},
   "source": [
    "Os classificadores foram comparados por meio de um teste estatístico para confirmar que a diferença entre eles é significante. O teste utilizado foi o teste de Friedman. A hipótese nula foi: as médias das taxas de acerto dos classificadores no conjunto de dados \"Imagem Segmentation\" possuem a mesma distribuição, ou seja, as diferenças entre os classificadores para o conjunto de dados utilizado são insignificantes. A hipótese alternativa foi: as diferenças entre os classificadores para o conjunto de dados utilizado são estatisticamente significantes."
   ]
  },
  {
   "cell_type": "markdown",
   "metadata": {},
   "source": [
    "Mais detalhes sobre comparação de classificadores podem ser obtidos no artigo [\\[1\\]](#ref1). Vale salientar que esse artigo utilizou vários conjuntos de dados, enquanto que este trabalho utilizou apenas um. Dessa forma, a comparação de classificadores realizada neste trabalho está limitada ao conjunto de dados Image Segmentation, não podendo ser generalizada para outros cenários. Se a hipótese nula deste trabalho fosse generalizada, o risco de cometer o erro Tipo 1 seria elevado, pois as variâncias das médias das taxas de acerto dependem unicamente da amostragem de dados de cada repetição da validação cruzada. Nesse caso, as chances da performance do melhor classificador da primeira repetição de validação cruzada se manter nas demais repetições é muito alta."
   ]
  },
  {
   "cell_type": "markdown",
   "metadata": {},
   "source": [
    "O teste de Friedman foi realizado e o p-value é exibido abaixo. O resultado do teste foi a rejeição da hipótese nula com p-value < 0.05."
   ]
  },
  {
   "cell_type": "code",
   "execution_count": 33,
   "metadata": {},
   "outputs": [
    {
     "data": {
      "text/plain": [
       "9.4194712315349006e-36"
      ]
     },
     "execution_count": 33,
     "metadata": {},
     "output_type": "execute_result"
    }
   ],
   "source": [
    "measurements = np.asarray(result.T)\n",
    "test_stat, p_value = st.friedmanchisquare(*measurements)\n",
    "p_value"
   ]
  },
  {
   "cell_type": "markdown",
   "metadata": {},
   "source": [
    "Dado que a hipótese nula foi rejeitada, o passo seguinte foi aplicar o teste de Nemenyi para identificar quais pares de classificadores possuem diferenças significativas e quais não possuem. O resultado do teste é exibido abaixo de forma gráfica, com o CD diagram [\\[1\\]](#ref2) (diagrama de diferença crítica), com p-value < 0.05. A partir desse diagrama, é possível observar que, por exemplo, \"comp_pwb\" e \"combined\" não possuem diferenças significativas, pois estão conectados por uma barra; enquanto que \"comp_pwb\" e \"rgb_pwb\" possuem diferenças significativas, pois não estão conectados por uma barra. A ordenação dos classificadores é do melhor resultado (esquerda) para o pior (direita). Por fim, a barra acima do gráfico com a sigla CD representa a diferença crítica para p-value < 0.05."
   ]
  },
  {
   "cell_type": "code",
   "execution_count": 34,
   "metadata": {},
   "outputs": [
    {
     "data": {
      "image/png": "[encoded data removed]",
      "text/plain": [
       "<Figure size 432x169.2 with 1 Axes>"
      ]
     },
     "metadata": {},
     "output_type": "display_data"
    }
   ],
   "source": [
    "avg_rank = result.rank(axis=1, ascending=False)\n",
    "avg_rank = avg_rank.mean()\n",
    "cd = og.evaluation.compute_CD(avranks=avg_rank, n=len(result), alpha='0.05', test='nemenyi')\n",
    "og.evaluation.graph_ranks(avranks=avg_rank, names=result.columns, cd=cd)\n",
    "plt.show()"
   ]
  },
  {
   "cell_type": "markdown",
   "metadata": {},
   "source": [
    "# Conclusão"
   ]
  },
  {
   "cell_type": "markdown",
   "metadata": {},
   "source": [
    "A partir dos resultados individuais e das comparações dos classificadores, é possível concluir que \"comp_pwb\" possui a melhor estimativa pontual de média de taxa de acerto, mas a comparação dos classificadores não confirma diferença significativa entre esse classificador e \"combined\". Por outro lado, como \"combined\" é a junção de seis combinações de visões e classicadores e \"comp_pwb\" é um classificador simples, o segundo classificador torna-se a melhor opção quando o custo computacional é um dos critérios de escolha. Por fim, vale reforçar que essas conclusões se limitam ao conjunto de dados utilizado, Image Segmentation."
   ]
  },
  {
   "cell_type": "markdown",
   "metadata": {},
   "source": [
    "# Referências bibliográficas"
   ]
  },
  {
   "cell_type": "markdown",
   "metadata": {},
   "source": [
    "<ol>\n",
    "    <li id=\"ref1\">DEMŠAR, Janez. <a href=\"http://www.cin.ufpe.br/~fatc/AM/demsar06.pdf\">Statistical comparisons of classifiers over multiple data sets</a>. Journal of Machine learning research, v. 7, n. Jan, p. 1-30, 2006.</li>\n",
    "    <li id=\"ref2\">KITTLER, Josef et al. <a href=\"http://www.cin.ufpe.br/~fatc/AM/KittlerEtAl-IEEE-PAMI-1998.pdf\">On combining classifiers</a>. IEEE transactions on pattern analysis and machine intelligence, v. 20, n. 3, p. 226-239, 1998.</li>\n",
    "    <li id=\"ref3\">PEDREGOSA, Fabian et al. <a href=\"http://www.jmlr.org/papers/volume12/pedregosa11a/pedregosa11a.pdf\">Scikit-learn: Machine learning in Python</a>. Journal of machine learning research, v. 12, n. Oct, p. 2825-2830, 2011.</li>\n",
    "</ol>"
   ]
  }
 ],
 "metadata": {
  "kernelspec": {
   "display_name": "Python 3",
   "language": "python",
   "name": "python3"
  },
  "language_info": {
   "codemirror_mode": {
    "name": "ipython",
    "version": 3
   },
   "file_extension": ".py",
   "mimetype": "text/x-python",
   "name": "python",
   "nbconvert_exporter": "python",
   "pygments_lexer": "ipython3",
   "version": "3.6.3"
  }
 },
 "nbformat": 4,
 "nbformat_minor": 2
}
